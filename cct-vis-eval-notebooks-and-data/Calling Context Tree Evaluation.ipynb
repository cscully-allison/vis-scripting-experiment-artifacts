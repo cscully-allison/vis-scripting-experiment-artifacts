{
 "cells": [
  {
   "cell_type": "markdown",
   "id": "6aa85819",
   "metadata": {},
   "source": [
    "# Working Notebook"
   ]
  },
  {
   "cell_type": "code",
   "execution_count": null,
   "id": "4eaf4594",
   "metadata": {},
   "outputs": [],
   "source": [
    "import hatchet as ht\n",
    "%load_ext hatchet.vis.loader"
   ]
  },
  {
   "cell_type": "code",
   "execution_count": 4,
   "id": "4a8a2092",
   "metadata": {},
   "outputs": [],
   "source": [
    "gf = ht.GraphFrame.from_caliper('datasets/lulesh-scaling/lulesh-annotation-profile-64cores.json')"
   ]
  },
  {
   "cell_type": "code",
   "execution_count": null,
   "id": "b7fd8861",
   "metadata": {},
   "outputs": [],
   "source": []
  }
 ],
 "metadata": {
  "kernelspec": {
   "display_name": "Python 3",
   "language": "python",
   "name": "python3"
  },
  "language_info": {
   "codemirror_mode": {
    "name": "ipython",
    "version": 3
   },
   "file_extension": ".py",
   "mimetype": "text/x-python",
   "name": "python",
   "nbconvert_exporter": "python",
   "pygments_lexer": "ipython3",
   "version": "3.8.10"
  }
 },
 "nbformat": 4,
 "nbformat_minor": 5
}
